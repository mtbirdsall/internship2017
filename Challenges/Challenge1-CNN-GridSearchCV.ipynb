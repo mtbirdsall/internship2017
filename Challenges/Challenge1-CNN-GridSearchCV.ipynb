version https://git-lfs.github.com/spec/v1
oid sha256:591de0763d8c7af5b27980f298bf63309ddb9d85776a81fef1bf768ac63fcbd3
size 24036
