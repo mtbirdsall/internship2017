version https://git-lfs.github.com/spec/v1
oid sha256:9ffaa0bd4fc7753eac6f8238e55a00fcf6cd8f1c3ee0473bb8c98b54cb7bddf7
size 31127
